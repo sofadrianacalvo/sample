{
 "cells": [
  {
   "cell_type": "markdown",
   "metadata": {
    "id": "COCN0vRF_0ni"
   },
   "source": [
    "# Exercises"
   ]
  },
  {
   "cell_type": "code",
   "execution_count": 48,
   "metadata": {
    "executionInfo": {
     "elapsed": 1233,
     "status": "ok",
     "timestamp": 1662177106332,
     "user": {
      "displayName": "Aaron Sta.Clara",
      "userId": "12783855657381363427"
     },
     "user_tz": -480
    },
    "id": "9JD0QEk5nEDg"
   },
   "outputs": [],
   "source": [
    "# Import pandas\n",
    "import pandas as pd"
   ]
  },
  {
   "cell_type": "code",
   "execution_count": 49,
   "metadata": {
    "executionInfo": {
     "elapsed": 829,
     "status": "ok",
     "timestamp": 1662177108070,
     "user": {
      "displayName": "Aaron Sta.Clara",
      "userId": "12783855657381363427"
     },
     "user_tz": -480
    },
    "id": "8rl_xWq3m1kH"
   },
   "outputs": [],
   "source": [
    "# Load the data\n",
    "data = pd.read_csv('micro_world.csv', engine='python')"
   ]
  },
  {
   "cell_type": "code",
   "execution_count": null,
   "metadata": {},
   "outputs": [],
   "source": [
    "data.columns"
   ]
  },
  {
   "cell_type": "markdown",
   "metadata": {
    "id": "DI5r9nctlhjA"
   },
   "source": [
    "## EASY. What is the breakdown of gender per region? Use .groupby()."
   ]
  },
  {
   "cell_type": "code",
   "execution_count": 51,
   "metadata": {
    "executionInfo": {
     "elapsed": 2,
     "status": "ok",
     "timestamp": 1662177108071,
     "user": {
      "displayName": "Aaron Sta.Clara",
      "userId": "12783855657381363427"
     },
     "user_tz": -480
    },
    "id": "Y28hdYwMlmuJ"
   },
   "outputs": [
    {
     "data": {
      "text/plain": [
       "regionwb                                            female\n",
       "East Asia & Pacific (excluding high income)         1          5739\n",
       "                                                    2          8094\n",
       "Europe & Central Asia (excluding high income)       1          9872\n",
       "                                                    2         13190\n",
       "High income: OECD                                   1         14611\n",
       "                                                    2         16455\n",
       "High income: nonOECD                                1          6131\n",
       "                                                    2          5478\n",
       "Latin America & Caribbean (excluding high income)   1          6561\n",
       "                                                    2          9943\n",
       "Middle East & North Africa (excluding high income)  1          6755\n",
       "                                                    2          7390\n",
       "South Asia                                          1          4043\n",
       "                                                    2          4661\n",
       "Sub-Saharan Africa (excluding high income)          1         17130\n",
       "                                                    2         17870\n",
       "Name: wpid_random, dtype: int64"
      ]
     },
     "execution_count": 51,
     "metadata": {},
     "output_type": "execute_result"
    }
   ],
   "source": [
    "gender_mapping ={\n",
    "    1:'male',\n",
    "    2:'female'\n",
    "}\n",
    "data.replace({'gender':gender_mapping})\n",
    "data.groupby(['regionwb','female']).count()['wpid_random']"
   ]
  },
  {
   "cell_type": "code",
   "execution_count": 52,
   "metadata": {},
   "outputs": [
    {
     "data": {
      "text/plain": [
       "regionwb                                            female\n",
       "East Asia & Pacific (excluding high income)         2          8094\n",
       "                                                    1          5739\n",
       "Europe & Central Asia (excluding high income)       2         13190\n",
       "                                                    1          9872\n",
       "High income: OECD                                   2         16455\n",
       "                                                    1         14611\n",
       "High income: nonOECD                                1          6131\n",
       "                                                    2          5478\n",
       "Latin America & Caribbean (excluding high income)   2          9943\n",
       "                                                    1          6561\n",
       "Middle East & North Africa (excluding high income)  2          7390\n",
       "                                                    1          6755\n",
       "South Asia                                          2          4661\n",
       "                                                    1          4043\n",
       "Sub-Saharan Africa (excluding high income)          2         17870\n",
       "                                                    1         17130\n",
       "Name: female, dtype: int64"
      ]
     },
     "execution_count": 52,
     "metadata": {},
     "output_type": "execute_result"
    }
   ],
   "source": [
    "data.groupby('regionwb')['female'].value_counts()"
   ]
  },
  {
   "cell_type": "code",
   "execution_count": 53,
   "metadata": {},
   "outputs": [
    {
     "data": {
      "text/plain": [
       "regionwb                                            female\n",
       "East Asia & Pacific (excluding high income)         1        43.22\n",
       "                                                    2        42.88\n",
       "Europe & Central Asia (excluding high income)       1        44.12\n",
       "                                                    2        46.30\n",
       "High income: OECD                                   1        49.27\n",
       "                                                    2        50.27\n",
       "High income: nonOECD                                1        42.10\n",
       "                                                    2        44.89\n",
       "Latin America & Caribbean (excluding high income)   1        41.79\n",
       "                                                    2        40.60\n",
       "Middle East & North Africa (excluding high income)  1        39.32\n",
       "                                                    2        38.31\n",
       "South Asia                                          1        38.00\n",
       "                                                    2        36.75\n",
       "Sub-Saharan Africa (excluding high income)          1        34.26\n",
       "                                                    2        33.81\n",
       "Name: age, dtype: float64"
      ]
     },
     "execution_count": 53,
     "metadata": {},
     "output_type": "execute_result"
    }
   ],
   "source": [
    "data.groupby(['regionwb','female']).mean()['age']"
   ]
  },
  {
   "cell_type": "markdown",
   "metadata": {
    "id": "YzVWf5hRpp06"
   },
   "source": [
    "## AVERAGE. Per region, compute percentage of population with credit card AND debit card segmented by gender.\n",
    "\n",
    "Hint:\n",
    "Columns will be region, % of male with BOTH credit card AND debit card, % of female with BOTH credit card AND debit card"
   ]
  },
  {
   "cell_type": "code",
   "execution_count": 54,
   "metadata": {
    "executionInfo": {
     "elapsed": 2,
     "status": "ok",
     "timestamp": 1662177108071,
     "user": {
      "displayName": "Aaron Sta.Clara",
      "userId": "12783855657381363427"
     },
     "user_tz": -480
    },
    "id": "ZMwtJSsKpv2g"
   },
   "outputs": [
    {
     "data": {
      "text/plain": [
       "17.293752380214688"
      ]
     },
     "execution_count": 54,
     "metadata": {},
     "output_type": "execute_result"
    }
   ],
   "source": [
    "#fin2 debit card\n",
    "#fin7 credit card\n",
    "\n",
    "#group by region\n",
    "#sort by gender\n",
    "#compute percentage of population with credit AND debit\n",
    "\n",
    "with_debitcard = data[\n",
    "    (data['fin2']==1) & (data['fin7']==1)\n",
    "]\n",
    "percent_debitcredit = ((len(with_debitcard)/len(data))*100)\n",
    "percent_debitcredit"
   ]
  },
  {
   "cell_type": "code",
   "execution_count": 58,
   "metadata": {},
   "outputs": [],
   "source": [
    "data['with debit AND credit'] = data.apply(\n",
    "    lambda x: 1 if x['fin2'] == 1 and x['fin7'] == 1 else None,\n",
    "    axis = 1\n",
    ")"
   ]
  },
  {
   "cell_type": "code",
   "execution_count": 60,
   "metadata": {},
   "outputs": [
    {
     "data": {
      "text/html": [
       "<div>\n",
       "<style scoped>\n",
       "    .dataframe tbody tr th:only-of-type {\n",
       "        vertical-align: middle;\n",
       "    }\n",
       "\n",
       "    .dataframe tbody tr th {\n",
       "        vertical-align: top;\n",
       "    }\n",
       "\n",
       "    .dataframe thead th {\n",
       "        text-align: right;\n",
       "    }\n",
       "</style>\n",
       "<table border=\"1\" class=\"dataframe\">\n",
       "  <thead>\n",
       "    <tr style=\"text-align: right;\">\n",
       "      <th></th>\n",
       "      <th>fin2</th>\n",
       "      <th>fin7</th>\n",
       "      <th>with debit AND credit</th>\n",
       "    </tr>\n",
       "  </thead>\n",
       "  <tbody>\n",
       "    <tr>\n",
       "      <th>0</th>\n",
       "      <td>2</td>\n",
       "      <td>2</td>\n",
       "      <td>NaN</td>\n",
       "    </tr>\n",
       "    <tr>\n",
       "      <th>1</th>\n",
       "      <td>2</td>\n",
       "      <td>2</td>\n",
       "      <td>NaN</td>\n",
       "    </tr>\n",
       "    <tr>\n",
       "      <th>2</th>\n",
       "      <td>2</td>\n",
       "      <td>2</td>\n",
       "      <td>NaN</td>\n",
       "    </tr>\n",
       "    <tr>\n",
       "      <th>3</th>\n",
       "      <td>2</td>\n",
       "      <td>2</td>\n",
       "      <td>NaN</td>\n",
       "    </tr>\n",
       "    <tr>\n",
       "      <th>4</th>\n",
       "      <td>2</td>\n",
       "      <td>2</td>\n",
       "      <td>NaN</td>\n",
       "    </tr>\n",
       "    <tr>\n",
       "      <th>...</th>\n",
       "      <td>...</td>\n",
       "      <td>...</td>\n",
       "      <td>...</td>\n",
       "    </tr>\n",
       "    <tr>\n",
       "      <th>154918</th>\n",
       "      <td>2</td>\n",
       "      <td>2</td>\n",
       "      <td>NaN</td>\n",
       "    </tr>\n",
       "    <tr>\n",
       "      <th>154919</th>\n",
       "      <td>1</td>\n",
       "      <td>2</td>\n",
       "      <td>NaN</td>\n",
       "    </tr>\n",
       "    <tr>\n",
       "      <th>154920</th>\n",
       "      <td>1</td>\n",
       "      <td>2</td>\n",
       "      <td>NaN</td>\n",
       "    </tr>\n",
       "    <tr>\n",
       "      <th>154921</th>\n",
       "      <td>1</td>\n",
       "      <td>1</td>\n",
       "      <td>1.00</td>\n",
       "    </tr>\n",
       "    <tr>\n",
       "      <th>154922</th>\n",
       "      <td>1</td>\n",
       "      <td>2</td>\n",
       "      <td>NaN</td>\n",
       "    </tr>\n",
       "  </tbody>\n",
       "</table>\n",
       "<p>154923 rows × 3 columns</p>\n",
       "</div>"
      ],
      "text/plain": [
       "        fin2  fin7  with debit AND credit\n",
       "0          2     2                    NaN\n",
       "1          2     2                    NaN\n",
       "2          2     2                    NaN\n",
       "3          2     2                    NaN\n",
       "4          2     2                    NaN\n",
       "...      ...   ...                    ...\n",
       "154918     2     2                    NaN\n",
       "154919     1     2                    NaN\n",
       "154920     1     2                    NaN\n",
       "154921     1     1                   1.00\n",
       "154922     1     2                    NaN\n",
       "\n",
       "[154923 rows x 3 columns]"
      ]
     },
     "execution_count": 60,
     "metadata": {},
     "output_type": "execute_result"
    }
   ],
   "source": [
    "data [['fin2','fin7','with debit AND credit']]"
   ]
  },
  {
   "cell_type": "code",
   "execution_count": 62,
   "metadata": {},
   "outputs": [
    {
     "name": "stderr",
     "output_type": "stream",
     "text": [
      "C:\\Users\\Sofia Calvo\\AppData\\Local\\Temp\\ipykernel_5736\\842697327.py:1: FutureWarning: Indexing with multiple keys (implicitly converted to a tuple of keys) will be deprecated, use a list instead.\n",
      "  grouped_data = data.groupby(['regionwb','female'])['wpid_random','with debit AND credit'].count()\n"
     ]
    }
   ],
   "source": [
    "grouped_data = data.groupby(['regionwb','female'])['wpid_random','with debit AND credit'].count()"
   ]
  },
  {
   "cell_type": "code",
   "execution_count": 63,
   "metadata": {},
   "outputs": [
    {
     "data": {
      "text/html": [
       "<div>\n",
       "<style scoped>\n",
       "    .dataframe tbody tr th:only-of-type {\n",
       "        vertical-align: middle;\n",
       "    }\n",
       "\n",
       "    .dataframe tbody tr th {\n",
       "        vertical-align: top;\n",
       "    }\n",
       "\n",
       "    .dataframe thead th {\n",
       "        text-align: right;\n",
       "    }\n",
       "</style>\n",
       "<table border=\"1\" class=\"dataframe\">\n",
       "  <thead>\n",
       "    <tr style=\"text-align: right;\">\n",
       "      <th></th>\n",
       "      <th></th>\n",
       "      <th>wpid_random</th>\n",
       "      <th>with debit AND credit</th>\n",
       "    </tr>\n",
       "    <tr>\n",
       "      <th>regionwb</th>\n",
       "      <th>female</th>\n",
       "      <th></th>\n",
       "      <th></th>\n",
       "    </tr>\n",
       "  </thead>\n",
       "  <tbody>\n",
       "    <tr>\n",
       "      <th rowspan=\"2\" valign=\"top\">East Asia &amp; Pacific (excluding high income)</th>\n",
       "      <th>1</th>\n",
       "      <td>5739</td>\n",
       "      <td>491</td>\n",
       "    </tr>\n",
       "    <tr>\n",
       "      <th>2</th>\n",
       "      <td>8094</td>\n",
       "      <td>430</td>\n",
       "    </tr>\n",
       "    <tr>\n",
       "      <th rowspan=\"2\" valign=\"top\">Europe &amp; Central Asia (excluding high income)</th>\n",
       "      <th>1</th>\n",
       "      <td>9872</td>\n",
       "      <td>1526</td>\n",
       "    </tr>\n",
       "    <tr>\n",
       "      <th>2</th>\n",
       "      <td>13190</td>\n",
       "      <td>1568</td>\n",
       "    </tr>\n",
       "    <tr>\n",
       "      <th rowspan=\"2\" valign=\"top\">High income: OECD</th>\n",
       "      <th>1</th>\n",
       "      <td>14611</td>\n",
       "      <td>7443</td>\n",
       "    </tr>\n",
       "    <tr>\n",
       "      <th>2</th>\n",
       "      <td>16455</td>\n",
       "      <td>7283</td>\n",
       "    </tr>\n",
       "    <tr>\n",
       "      <th rowspan=\"2\" valign=\"top\">High income: nonOECD</th>\n",
       "      <th>1</th>\n",
       "      <td>6131</td>\n",
       "      <td>2211</td>\n",
       "    </tr>\n",
       "    <tr>\n",
       "      <th>2</th>\n",
       "      <td>5478</td>\n",
       "      <td>1651</td>\n",
       "    </tr>\n",
       "    <tr>\n",
       "      <th rowspan=\"2\" valign=\"top\">Latin America &amp; Caribbean (excluding high income)</th>\n",
       "      <th>1</th>\n",
       "      <td>6561</td>\n",
       "      <td>846</td>\n",
       "    </tr>\n",
       "    <tr>\n",
       "      <th>2</th>\n",
       "      <td>9943</td>\n",
       "      <td>757</td>\n",
       "    </tr>\n",
       "    <tr>\n",
       "      <th rowspan=\"2\" valign=\"top\">Middle East &amp; North Africa (excluding high income)</th>\n",
       "      <th>1</th>\n",
       "      <td>6755</td>\n",
       "      <td>391</td>\n",
       "    </tr>\n",
       "    <tr>\n",
       "      <th>2</th>\n",
       "      <td>7390</td>\n",
       "      <td>202</td>\n",
       "    </tr>\n",
       "    <tr>\n",
       "      <th rowspan=\"2\" valign=\"top\">South Asia</th>\n",
       "      <th>1</th>\n",
       "      <td>4043</td>\n",
       "      <td>104</td>\n",
       "    </tr>\n",
       "    <tr>\n",
       "      <th>2</th>\n",
       "      <td>4661</td>\n",
       "      <td>61</td>\n",
       "    </tr>\n",
       "    <tr>\n",
       "      <th rowspan=\"2\" valign=\"top\">Sub-Saharan Africa (excluding high income)</th>\n",
       "      <th>1</th>\n",
       "      <td>17130</td>\n",
       "      <td>764</td>\n",
       "    </tr>\n",
       "    <tr>\n",
       "      <th>2</th>\n",
       "      <td>17870</td>\n",
       "      <td>503</td>\n",
       "    </tr>\n",
       "  </tbody>\n",
       "</table>\n",
       "</div>"
      ],
      "text/plain": [
       "                                                           wpid_random  \\\n",
       "regionwb                                           female                \n",
       "East Asia & Pacific (excluding high income)        1              5739   \n",
       "                                                   2              8094   \n",
       "Europe & Central Asia (excluding high income)      1              9872   \n",
       "                                                   2             13190   \n",
       "High income: OECD                                  1             14611   \n",
       "                                                   2             16455   \n",
       "High income: nonOECD                               1              6131   \n",
       "                                                   2              5478   \n",
       "Latin America & Caribbean (excluding high income)  1              6561   \n",
       "                                                   2              9943   \n",
       "Middle East & North Africa (excluding high income) 1              6755   \n",
       "                                                   2              7390   \n",
       "South Asia                                         1              4043   \n",
       "                                                   2              4661   \n",
       "Sub-Saharan Africa (excluding high income)         1             17130   \n",
       "                                                   2             17870   \n",
       "\n",
       "                                                           with debit AND credit  \n",
       "regionwb                                           female                         \n",
       "East Asia & Pacific (excluding high income)        1                         491  \n",
       "                                                   2                         430  \n",
       "Europe & Central Asia (excluding high income)      1                        1526  \n",
       "                                                   2                        1568  \n",
       "High income: OECD                                  1                        7443  \n",
       "                                                   2                        7283  \n",
       "High income: nonOECD                               1                        2211  \n",
       "                                                   2                        1651  \n",
       "Latin America & Caribbean (excluding high income)  1                         846  \n",
       "                                                   2                         757  \n",
       "Middle East & North Africa (excluding high income) 1                         391  \n",
       "                                                   2                         202  \n",
       "South Asia                                         1                         104  \n",
       "                                                   2                          61  \n",
       "Sub-Saharan Africa (excluding high income)         1                         764  \n",
       "                                                   2                         503  "
      ]
     },
     "execution_count": 63,
     "metadata": {},
     "output_type": "execute_result"
    }
   ],
   "source": [
    "grouped_data"
   ]
  },
  {
   "cell_type": "markdown",
   "metadata": {
    "id": "dWDi1d-uloP5"
   },
   "source": [
    "## DIFFICULT. Compute the following metric per region:\n",
    "\n",
    "card ownership access gender ratio = % of females with BOTH credit card AND debit card/% of males with BOTH credit card AND debit card\n",
    "\n",
    "No apparent gender discrepancy if metric approaches 1. Else, there is a discrepancy."
   ]
  },
  {
   "cell_type": "code",
   "execution_count": null,
   "metadata": {},
   "outputs": [],
   "source": []
  },
  {
   "cell_type": "code",
   "execution_count": null,
   "metadata": {},
   "outputs": [],
   "source": [
    "with_debitcredit = data[\n",
    "    (data['fin2']==1) & (data['fin7']==1)"
   ]
  },
  {
   "cell_type": "code",
   "execution_count": 31,
   "metadata": {
    "executionInfo": {
     "elapsed": 655,
     "status": "ok",
     "timestamp": 1662177108724,
     "user": {
      "displayName": "Aaron Sta.Clara",
      "userId": "12783855657381363427"
     },
     "user_tz": -480
    },
    "id": "o7dZ5-9znKbR"
   },
   "outputs": [],
   "source": [
    "female_with_debitcredit = with_debitcredit[\n",
    "    with_debitcredit['female'] == 2\n",
    "]"
   ]
  },
  {
   "cell_type": "code",
   "execution_count": 32,
   "metadata": {},
   "outputs": [],
   "source": [
    "male_with_debitcredit = with_debitcredit[\n",
    "    with_debitcredit['female'] == 1\n",
    "]"
   ]
  },
  {
   "cell_type": "code",
   "execution_count": 35,
   "metadata": {},
   "outputs": [
    {
     "data": {
      "text/plain": [
       "12763"
      ]
     },
     "execution_count": 35,
     "metadata": {},
     "output_type": "execute_result"
    }
   ],
   "source": [
    "len(female_with_debitcredit)"
   ]
  },
  {
   "cell_type": "code",
   "execution_count": 36,
   "metadata": {},
   "outputs": [
    {
     "data": {
      "text/plain": [
       "14029"
      ]
     },
     "execution_count": 36,
     "metadata": {},
     "output_type": "execute_result"
    }
   ],
   "source": [
    "len(male_with_debitcredit)"
   ]
  },
  {
   "cell_type": "code",
   "execution_count": 37,
   "metadata": {},
   "outputs": [
    {
     "data": {
      "text/plain": [
       "0.909758357687647"
      ]
     },
     "execution_count": 37,
     "metadata": {},
     "output_type": "execute_result"
    }
   ],
   "source": [
    "len(female_with_debitcredit)/len(male_with_debitcredit)"
   ]
  },
  {
   "cell_type": "code",
   "execution_count": null,
   "metadata": {},
   "outputs": [],
   "source": []
  }
 ],
 "metadata": {
  "colab": {
   "collapsed_sections": [],
   "provenance": []
  },
  "kernelspec": {
   "display_name": "Python 3 (ipykernel)",
   "language": "python",
   "name": "python3"
  },
  "language_info": {
   "codemirror_mode": {
    "name": "ipython",
    "version": 3
   },
   "file_extension": ".py",
   "mimetype": "text/x-python",
   "name": "python",
   "nbconvert_exporter": "python",
   "pygments_lexer": "ipython3",
   "version": "3.9.13"
  }
 },
 "nbformat": 4,
 "nbformat_minor": 1
}
