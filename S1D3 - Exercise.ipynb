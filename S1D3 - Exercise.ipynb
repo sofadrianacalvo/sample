{
 "cells": [
  {
   "cell_type": "markdown",
   "metadata": {
    "id": "COCN0vRF_0ni"
   },
   "source": [
    "# Exercises"
   ]
  },
  {
   "cell_type": "code",
   "execution_count": 4,
   "metadata": {
    "id": "9JD0QEk5nEDg"
   },
   "outputs": [],
   "source": [
    "# Import libraries\n",
    "import csv\n",
    "import matplotlib.pyplot as plt\n",
    "import pandas as pd\n",
    "import plotly.express as px\n",
    "import seaborn as sns"
   ]
  },
  {
   "cell_type": "code",
   "execution_count": 5,
   "metadata": {
    "id": "8rl_xWq3m1kH"
   },
   "outputs": [
    {
     "data": {
      "text/plain": [
       "Index(['economy', 'economycode', 'regionwb', 'pop_adult', 'wpid_random', 'wgt',\n",
       "       'female', 'age', 'educ', 'inc_q',\n",
       "       ...\n",
       "       'receive_wages', 'receive_transfers', 'receive_pension',\n",
       "       'receive_agriculture', 'pay_utilities', 'remittances', 'pay_onlne',\n",
       "       'pay_onlne_mobintbuy', 'pay_cash', 'pay_cash_mobintbuy'],\n",
       "      dtype='object', length=105)"
      ]
     },
     "execution_count": 5,
     "metadata": {},
     "output_type": "execute_result"
    }
   ],
   "source": [
    "# Load the data\n",
    "data = pd.read_csv('micro_world.csv', engine='python')\n",
    "data.columns"
   ]
  },
  {
   "cell_type": "markdown",
   "metadata": {
    "id": "DI5r9nctlhjA"
   },
   "source": [
    "## AVERAGE. Create a bar chart of top 10 countries in terms of % of females with debit card."
   ]
  },
  {
   "cell_type": "code",
   "execution_count": 16,
   "metadata": {
    "id": "Le-vVh92qei-"
   },
   "outputs": [
    {
     "data": {
      "text/html": [
       "<div>\n",
       "<style scoped>\n",
       "    .dataframe tbody tr th:only-of-type {\n",
       "        vertical-align: middle;\n",
       "    }\n",
       "\n",
       "    .dataframe tbody tr th {\n",
       "        vertical-align: top;\n",
       "    }\n",
       "\n",
       "    .dataframe thead th {\n",
       "        text-align: right;\n",
       "    }\n",
       "</style>\n",
       "<table border=\"1\" class=\"dataframe\">\n",
       "  <thead>\n",
       "    <tr style=\"text-align: right;\">\n",
       "      <th></th>\n",
       "      <th>economy</th>\n",
       "      <th>economycode</th>\n",
       "      <th>regionwb</th>\n",
       "      <th>female</th>\n",
       "      <th>total_debit_card_owners</th>\n",
       "      <th>total_population</th>\n",
       "    </tr>\n",
       "  </thead>\n",
       "  <tbody>\n",
       "    <tr>\n",
       "      <th>0</th>\n",
       "      <td>Afghanistan</td>\n",
       "      <td>AFG</td>\n",
       "      <td>South Asia</td>\n",
       "      <td>1</td>\n",
       "      <td>21</td>\n",
       "      <td>500</td>\n",
       "    </tr>\n",
       "    <tr>\n",
       "      <th>1</th>\n",
       "      <td>Afghanistan</td>\n",
       "      <td>AFG</td>\n",
       "      <td>South Asia</td>\n",
       "      <td>2</td>\n",
       "      <td>7</td>\n",
       "      <td>500</td>\n",
       "    </tr>\n",
       "    <tr>\n",
       "      <th>2</th>\n",
       "      <td>Albania</td>\n",
       "      <td>ALB</td>\n",
       "      <td>Europe &amp; Central Asia (excluding high income)</td>\n",
       "      <td>1</td>\n",
       "      <td>126</td>\n",
       "      <td>399</td>\n",
       "    </tr>\n",
       "    <tr>\n",
       "      <th>3</th>\n",
       "      <td>Albania</td>\n",
       "      <td>ALB</td>\n",
       "      <td>Europe &amp; Central Asia (excluding high income)</td>\n",
       "      <td>2</td>\n",
       "      <td>152</td>\n",
       "      <td>601</td>\n",
       "    </tr>\n",
       "    <tr>\n",
       "      <th>4</th>\n",
       "      <td>Algeria</td>\n",
       "      <td>DZA</td>\n",
       "      <td>Middle East &amp; North Africa (excluding high inc...</td>\n",
       "      <td>1</td>\n",
       "      <td>164</td>\n",
       "      <td>512</td>\n",
       "    </tr>\n",
       "    <tr>\n",
       "      <th>...</th>\n",
       "      <td>...</td>\n",
       "      <td>...</td>\n",
       "      <td>...</td>\n",
       "      <td>...</td>\n",
       "      <td>...</td>\n",
       "      <td>...</td>\n",
       "    </tr>\n",
       "    <tr>\n",
       "      <th>281</th>\n",
       "      <td>West Bank and Gaza</td>\n",
       "      <td>PSE</td>\n",
       "      <td>Middle East &amp; North Africa (excluding high inc...</td>\n",
       "      <td>2</td>\n",
       "      <td>73</td>\n",
       "      <td>598</td>\n",
       "    </tr>\n",
       "    <tr>\n",
       "      <th>282</th>\n",
       "      <td>Zambia</td>\n",
       "      <td>ZMB</td>\n",
       "      <td>Sub-Saharan Africa (excluding high income)</td>\n",
       "      <td>1</td>\n",
       "      <td>127</td>\n",
       "      <td>413</td>\n",
       "    </tr>\n",
       "    <tr>\n",
       "      <th>283</th>\n",
       "      <td>Zambia</td>\n",
       "      <td>ZMB</td>\n",
       "      <td>Sub-Saharan Africa (excluding high income)</td>\n",
       "      <td>2</td>\n",
       "      <td>105</td>\n",
       "      <td>587</td>\n",
       "    </tr>\n",
       "    <tr>\n",
       "      <th>284</th>\n",
       "      <td>Zimbabwe</td>\n",
       "      <td>ZWE</td>\n",
       "      <td>Sub-Saharan Africa (excluding high income)</td>\n",
       "      <td>1</td>\n",
       "      <td>131</td>\n",
       "      <td>389</td>\n",
       "    </tr>\n",
       "    <tr>\n",
       "      <th>285</th>\n",
       "      <td>Zimbabwe</td>\n",
       "      <td>ZWE</td>\n",
       "      <td>Sub-Saharan Africa (excluding high income)</td>\n",
       "      <td>2</td>\n",
       "      <td>118</td>\n",
       "      <td>611</td>\n",
       "    </tr>\n",
       "  </tbody>\n",
       "</table>\n",
       "<p>286 rows × 6 columns</p>\n",
       "</div>"
      ],
      "text/plain": [
       "                economy economycode  \\\n",
       "0           Afghanistan         AFG   \n",
       "1           Afghanistan         AFG   \n",
       "2               Albania         ALB   \n",
       "3               Albania         ALB   \n",
       "4               Algeria         DZA   \n",
       "..                  ...         ...   \n",
       "281  West Bank and Gaza         PSE   \n",
       "282              Zambia         ZMB   \n",
       "283              Zambia         ZMB   \n",
       "284            Zimbabwe         ZWE   \n",
       "285            Zimbabwe         ZWE   \n",
       "\n",
       "                                              regionwb  female  \\\n",
       "0                                           South Asia       1   \n",
       "1                                           South Asia       2   \n",
       "2        Europe & Central Asia (excluding high income)       1   \n",
       "3        Europe & Central Asia (excluding high income)       2   \n",
       "4    Middle East & North Africa (excluding high inc...       1   \n",
       "..                                                 ...     ...   \n",
       "281  Middle East & North Africa (excluding high inc...       2   \n",
       "282         Sub-Saharan Africa (excluding high income)       1   \n",
       "283         Sub-Saharan Africa (excluding high income)       2   \n",
       "284         Sub-Saharan Africa (excluding high income)       1   \n",
       "285         Sub-Saharan Africa (excluding high income)       2   \n",
       "\n",
       "     total_debit_card_owners  total_population  \n",
       "0                         21               500  \n",
       "1                          7               500  \n",
       "2                        126               399  \n",
       "3                        152               601  \n",
       "4                        164               512  \n",
       "..                       ...               ...  \n",
       "281                       73               598  \n",
       "282                      127               413  \n",
       "283                      105               587  \n",
       "284                      131               389  \n",
       "285                      118               611  \n",
       "\n",
       "[286 rows x 6 columns]"
      ]
     },
     "execution_count": 16,
     "metadata": {},
     "output_type": "execute_result"
    }
   ],
   "source": [
    "# Create another column for debit card ownership\n",
    "data['has_debit_card'] = data['fin2'].apply(\n",
    "    lambda x: 1 if x == 1 else 0\n",
    "    )\n",
    "\n",
    "# Group the data and apply aggregations\n",
    "grouped_data = data.groupby(['economy', 'economycode', 'regionwb','female']).agg(\n",
    "    total_debit_card_owners=('has_debit_card', 'sum'),\n",
    "    total_population=('wpid_random', 'count')\n",
    ").reset_index()\n",
    "\n",
    "\n",
    "grouped_data"
   ]
  },
  {
   "cell_type": "code",
   "execution_count": null,
   "metadata": {},
   "outputs": [],
   "source": [
    "female_data=grouped_data[\n",
    "    data\n",
    "]"
   ]
  },
  {
   "cell_type": "markdown",
   "metadata": {
    "id": "fgUW9tCaqgVm"
   },
   "source": [
    "## DIFFICULT. Create a bubble map to show % of females with debit card per country. Create another showing % of males with debit card per country.\n",
    "\n",
    "Notice any difference?"
   ]
  },
  {
   "cell_type": "code",
   "execution_count": null,
   "metadata": {},
   "outputs": [],
   "source": []
  },
  {
   "cell_type": "code",
   "execution_count": null,
   "metadata": {
    "id": "GvNHpGNzq27f"
   },
   "outputs": [],
   "source": []
  }
 ],
 "metadata": {
  "colab": {
   "collapsed_sections": [],
   "provenance": []
  },
  "kernelspec": {
   "display_name": "Python 3 (ipykernel)",
   "language": "python",
   "name": "python3"
  },
  "language_info": {
   "codemirror_mode": {
    "name": "ipython",
    "version": 3
   },
   "file_extension": ".py",
   "mimetype": "text/x-python",
   "name": "python",
   "nbconvert_exporter": "python",
   "pygments_lexer": "ipython3",
   "version": "3.9.13"
  }
 },
 "nbformat": 4,
 "nbformat_minor": 1
}
