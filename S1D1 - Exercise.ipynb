{
 "cells": [
  {
   "cell_type": "markdown",
   "metadata": {
    "id": "COCN0vRF_0ni"
   },
   "source": [
    "# Exercises"
   ]
  },
  {
   "cell_type": "code",
   "execution_count": 1,
   "metadata": {
    "id": "9JD0QEk5nEDg"
   },
   "outputs": [],
   "source": [
    "# Import pandas\n",
    "import pandas as pd"
   ]
  },
  {
   "cell_type": "code",
   "execution_count": 2,
   "metadata": {
    "id": "8rl_xWq3m1kH"
   },
   "outputs": [],
   "source": [
    "# Load the data\n",
    "data = pd.read_csv('micro_world.csv', engine='python')"
   ]
  },
  {
   "cell_type": "code",
   "execution_count": null,
   "metadata": {
    "id": "aVefTNZim9mD"
   },
   "outputs": [],
   "source": [
    "# Filter the data\n",
    "pd = data[\n",
    "    data['economy']=='Philippines'\n",
    "]"
   ]
  },
  {
   "cell_type": "markdown",
   "metadata": {
    "id": "DI5r9nctlhjA"
   },
   "source": [
    "## EASY. What is the breakdown of the Filipino respondents by gender?"
   ]
  },
  {
   "cell_type": "code",
   "execution_count": 22,
   "metadata": {
    "id": "Y28hdYwMlmuJ"
   },
   "outputs": [
    {
     "data": {
      "text/plain": [
       "2    562\n",
       "1    438\n",
       "Name: female, dtype: int64"
      ]
     },
     "execution_count": 22,
     "metadata": {},
     "output_type": "execute_result"
    }
   ],
   "source": [
    "philippine_data['female'].value_counts()\n",
    "\n"
   ]
  },
  {
   "cell_type": "markdown",
   "metadata": {
    "id": "YzVWf5hRpp06"
   },
   "source": [
    "## AVERAGE. What percentage of the Filipino respondents have BOTH credit card and debit card? Hint: browse through the data description to find the needed columns."
   ]
  },
  {
   "cell_type": "code",
   "execution_count": 36,
   "metadata": {
    "id": "ZMwtJSsKpv2g"
   },
   "outputs": [
    {
     "data": {
      "text/plain": [
       "1.7999999999999998"
      ]
     },
     "execution_count": 36,
     "metadata": {},
     "output_type": "execute_result"
    }
   ],
   "source": [
    "with_debitcard = philippine_data[\n",
    "    (philippine_data['fin2']==1) & (philippine_data['fin7']==1)\n",
    "]\n",
    "percent_debitcredit = ((len(with_debitcard)/len(philippine_data))*100)\n",
    "percent_debitcredit\n",
    "\n"
   ]
  },
  {
   "cell_type": "code",
   "execution_count": 35,
   "metadata": {},
   "outputs": [
    {
     "data": {
      "text/plain": [
       "1.7999999999999998"
      ]
     },
     "execution_count": 35,
     "metadata": {},
     "output_type": "execute_result"
    }
   ],
   "source": [
    "(len(philippine_data[(philippine_data['fin2']==1) & (philippine_data['fin7']==1)]) / len(philippine_data)) * 100"
   ]
  },
  {
   "cell_type": "markdown",
   "metadata": {
    "id": "dWDi1d-uloP5"
   },
   "source": [
    "## DIFFICULT. Compare the richest 20% to the poorest 20% of Filipino respondents in terms of debit card ownership. Is there a discrepancy? "
   ]
  },
  {
   "cell_type": "code",
   "execution_count": null,
   "metadata": {},
   "outputs": [],
   "source": []
  },
  {
   "cell_type": "code",
   "execution_count": 40,
   "metadata": {
    "id": "o7dZ5-9znKbR"
   },
   "outputs": [],
   "source": [
    "richest20 = philippine_data[\n",
    "    philippine_data['inc_q'] == 5\n",
    "]\n",
    "poorest20 = philippine_data[\n",
    "    philippine_data['inc_q'] == 1\n",
    "]"
   ]
  },
  {
   "cell_type": "code",
   "execution_count": 42,
   "metadata": {},
   "outputs": [],
   "source": [
    "richest_debit = richest20[\n",
    "    richest20['fin2']==1\n",
    "]\n",
    "poorest_debit = poorest20[\n",
    "    poorest20['fin2']==1\n",
    "]"
   ]
  },
  {
   "cell_type": "code",
   "execution_count": 43,
   "metadata": {},
   "outputs": [
    {
     "data": {
      "text/plain": [
       "107"
      ]
     },
     "execution_count": 43,
     "metadata": {},
     "output_type": "execute_result"
    }
   ],
   "source": [
    "len(richest_debit)"
   ]
  },
  {
   "cell_type": "code",
   "execution_count": 44,
   "metadata": {},
   "outputs": [
    {
     "data": {
      "text/plain": [
       "21"
      ]
     },
     "execution_count": 44,
     "metadata": {},
     "output_type": "execute_result"
    }
   ],
   "source": [
    "len(poorest_debit)"
   ]
  },
  {
   "cell_type": "code",
   "execution_count": 50,
   "metadata": {},
   "outputs": [
    {
     "data": {
      "text/plain": [
       "10.7"
      ]
     },
     "execution_count": 50,
     "metadata": {},
     "output_type": "execute_result"
    }
   ],
   "source": [
    "percentage_richest = len(richest_debit)*100/len(philippine_data)\n",
    "percentage_richest"
   ]
  },
  {
   "cell_type": "code",
   "execution_count": 49,
   "metadata": {},
   "outputs": [
    {
     "data": {
      "text/plain": [
       "2.1"
      ]
     },
     "execution_count": 49,
     "metadata": {},
     "output_type": "execute_result"
    }
   ],
   "source": [
    "percentage_poorest = len(poorest_debit)*100/len(philippine_data)\n",
    "percentage_poorest"
   ]
  },
  {
   "cell_type": "code",
   "execution_count": null,
   "metadata": {},
   "outputs": [],
   "source": [
    "phdata = data[\n",
    "    data['regionwb'] =='Philippines'\n",
    "]\n",
    "\n",
    "phdata"
   ]
  },
  {
   "cell_type": "code",
   "execution_count": null,
   "metadata": {},
   "outputs": [],
   "source": []
  }
 ],
 "metadata": {
  "colab": {
   "collapsed_sections": [],
   "provenance": []
  },
  "kernelspec": {
   "display_name": "Python 3 (ipykernel)",
   "language": "python",
   "name": "python3"
  },
  "language_info": {
   "codemirror_mode": {
    "name": "ipython",
    "version": 3
   },
   "file_extension": ".py",
   "mimetype": "text/x-python",
   "name": "python",
   "nbconvert_exporter": "python",
   "pygments_lexer": "ipython3",
   "version": "3.9.13"
  }
 },
 "nbformat": 4,
 "nbformat_minor": 1
}
