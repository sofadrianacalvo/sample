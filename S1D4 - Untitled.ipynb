{
 "cells": [
  {
   "cell_type": "code",
   "execution_count": null,
   "id": "66800ed3",
   "metadata": {},
   "outputs": [],
   "source": [
    "a_educ = fin11a.groupby(['fin11a', 'educ']).size().reset_index(name='count')\n",
    "b_educ = fin11b.groupby(['fin11b', 'educ']).size().reset_index(name='count')\n",
    "c_educ = fin11c.groupby(['fin11c', 'educ']).size().reset_index(name='count')\n",
    "d_educ = fin11d.groupby(['fin11d', 'educ']).size().reset_index(name='count')\n",
    "e_educ = fin11e.groupby(['fin11e', 'educ']).size().reset_index(name='count')\n",
    "f_educ = fin11f.groupby(['fin11f', 'educ']).size().reset_index(name='count')\n",
    "g_educ = fin11g.groupby(['fin11g', 'educ']).size().reset_index(name='count')\n",
    "h_educ = fin11h.groupby(['fin11h', 'educ']).size().reset_index(name='count')\n",
    "a_educ\n",
    "\n",
    "\n",
    "#bar plot - each reason\n",
    "# group by for each reason then each educ level \n",
    "\n",
    "far = ['126','142','15']\n",
    "expensive = ['164','191','15']\n",
    "documentation =['123','173','11']\n",
    "trust =['57','84','5']\n",
    "religion =['46','46','3']\n",
    "lack_money =['159','294','24']\n",
    "fam_member_has =['61','105','10']\n",
    "no_need =['97','161','18']\n",
    "\n",
    "educ_data = {\n",
    "       'primary or less' :[126,164,123,57,46,159,61,97],\n",
    "       'secondary' : [142,191,173,84,46,294,105,161],\n",
    "    'completed tertiary or more' : [15,15,11,5,3,24,10,18]\n",
    "}\n",
    "\n",
    "reason = ['far','expensive','documentation','trust','religion','lack_money','fam_member_has','no_need']\n",
    "\n",
    "educ_df = pd.DataFrame(educ_data, index= reason)\n",
    "\n",
    "educ_df\n",
    "\n",
    "\n",
    "\n",
    "educ_data = {\n",
    "    \n",
    "}\n",
    "\n",
    "\n",
    "educ_1 = [126,164,123,57,46,159,61,97]\n",
    "educ_2 = [142, 191,173,84,46,294,105,161]\n",
    "educ_3 = [15, 15, 11,5,3,24,10,18]\n",
    "\n",
    "educ_df = pd.DataFrame()"
   ]
  }
 ],
 "metadata": {
  "kernelspec": {
   "display_name": "Python 3 (ipykernel)",
   "language": "python",
   "name": "python3"
  },
  "language_info": {
   "codemirror_mode": {
    "name": "ipython",
    "version": 3
   },
   "file_extension": ".py",
   "mimetype": "text/x-python",
   "name": "python",
   "nbconvert_exporter": "python",
   "pygments_lexer": "ipython3",
   "version": "3.9.13"
  }
 },
 "nbformat": 4,
 "nbformat_minor": 5
}
